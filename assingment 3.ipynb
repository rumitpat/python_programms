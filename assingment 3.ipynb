{
 "cells": [
  {
   "cell_type": "code",
   "execution_count": 2,
   "metadata": {},
   "outputs": [],
   "source": [
    "#star pattens"
   ]
  },
  {
   "cell_type": "code",
   "execution_count": 108,
   "metadata": {},
   "outputs": [
    {
     "name": "stdout",
     "output_type": "stream",
     "text": [
      "*          \n",
      "* *        \n",
      "* * *      \n",
      "* * * *    \n",
      "* * * * *  \n"
     ]
    }
   ],
   "source": [
    "for i in range(0,5):\n",
    "    for j in range(0,5):\n",
    "        if j<=i:\n",
    "            print(\"*\", end=\" \")\n",
    "        else:\n",
    "            print(\" \",end =\" \")\n",
    "    print(\" \")    "
   ]
  },
  {
   "cell_type": "code",
   "execution_count": 109,
   "metadata": {},
   "outputs": [
    {
     "name": "stdout",
     "output_type": "stream",
     "text": [
      "* * * * *  \n",
      "  * * * *  \n",
      "    * * *  \n",
      "      * *  \n",
      "        *  \n"
     ]
    }
   ],
   "source": [
    "for i in range(0,5):\n",
    "    for j in range(0,5):\n",
    "        if j>=i:\n",
    "            print(\"*\",end =\" \")\n",
    "        else:\n",
    "            print(\" \",end =\" \")\n",
    "    print(\" \")    "
   ]
  },
  {
   "cell_type": "code",
   "execution_count": 110,
   "metadata": {},
   "outputs": [
    {
     "name": "stdout",
     "output_type": "stream",
     "text": [
      "      *        \n",
      "    * * *      \n",
      "  * * * * *    \n",
      "* * * * * * *  \n"
     ]
    }
   ],
   "source": [
    "for i in range(0,4):\n",
    "    for j in range(0,7):\n",
    "        if j>=3-i and j<=3+i:\n",
    "            print(\"*\",end =\" \")\n",
    "        else:\n",
    "            print(\" \",end =\" \")\n",
    "    print(\" \")    "
   ]
  },
  {
   "cell_type": "code",
   "execution_count": 111,
   "metadata": {},
   "outputs": [],
   "source": [
    "#prime number"
   ]
  },
  {
   "cell_type": "code",
   "execution_count": 112,
   "metadata": {},
   "outputs": [
    {
     "name": "stdout",
     "output_type": "stream",
     "text": [
      "enter a number: 5\n",
      "prime\n"
     ]
    }
   ],
   "source": [
    "a =int(input(\"enter a number: \"))\n",
    "for i in range(2,a):\n",
    "    if a%i ==0:\n",
    "        print(\"not prime\")\n",
    "        break  \n",
    "else:\n",
    "    print(\"prime\")"
   ]
  },
  {
   "cell_type": "code",
   "execution_count": 70,
   "metadata": {},
   "outputs": [],
   "source": [
    "#Fibonic series"
   ]
  },
  {
   "cell_type": "code",
   "execution_count": 113,
   "metadata": {},
   "outputs": [
    {
     "name": "stdout",
     "output_type": "stream",
     "text": [
      "how many tarm you want: 5\n",
      "0\n",
      "1\n",
      "1\n",
      "2\n",
      "3\n",
      "5\n"
     ]
    }
   ],
   "source": [
    "n =int(input(\"how many tarm you want: \"))\n",
    "a=0\n",
    "b=1\n",
    "c=a+b\n",
    "print(a)\n",
    "print(b)\n",
    "while c<=n:\n",
    "    print(c)\n",
    "    a =b\n",
    "    b =c\n",
    "    c =a+b"
   ]
  },
  {
   "cell_type": "code",
   "execution_count": 2,
   "metadata": {},
   "outputs": [],
   "source": [
    "#armstromg numbers"
   ]
  },
  {
   "cell_type": "code",
   "execution_count": 18,
   "metadata": {},
   "outputs": [
    {
     "name": "stdout",
     "output_type": "stream",
     "text": [
      "enter a number : 153\n",
      "<class 'str'>\n",
      "<class 'int'>\n",
      "3\n",
      "1\n",
      "126\n",
      "153\n",
      "nu is armstromg\n"
     ]
    }
   ],
   "source": [
    "n =input(\"enter a number : \")\n",
    "print(type(n))\n",
    "w =int(n)\n",
    "a =len(str(n))\n",
    "c =int(a)\n",
    "print(type(c))\n",
    "print(a)\n",
    "tamp =0\n",
    "for i in n:\n",
    "    tamp =int(i)**c +tamp\n",
    "    print(tamp)\n",
    "if tamp ==w:\n",
    "    print(\"nu is armstromg\")\n",
    "else:\n",
    "    print(\"not a armstrmg\")    "
   ]
  },
  {
   "cell_type": "code",
   "execution_count": null,
   "metadata": {},
   "outputs": [],
   "source": []
  },
  {
   "cell_type": "code",
   "execution_count": null,
   "metadata": {},
   "outputs": [],
   "source": []
  },
  {
   "cell_type": "code",
   "execution_count": null,
   "metadata": {},
   "outputs": [],
   "source": []
  },
  {
   "cell_type": "code",
   "execution_count": null,
   "metadata": {},
   "outputs": [],
   "source": []
  },
  {
   "cell_type": "code",
   "execution_count": null,
   "metadata": {},
   "outputs": [],
   "source": []
  }
 ],
 "metadata": {
  "kernelspec": {
   "display_name": "Python 3",
   "language": "python",
   "name": "python3"
  },
  "language_info": {
   "codemirror_mode": {
    "name": "ipython",
    "version": 3
   },
   "file_extension": ".py",
   "mimetype": "text/x-python",
   "name": "python",
   "nbconvert_exporter": "python",
   "pygments_lexer": "ipython3",
   "version": "3.8.3"
  }
 },
 "nbformat": 4,
 "nbformat_minor": 4
}
